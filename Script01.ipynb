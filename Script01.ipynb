{
 "cells": [
  {
   "cell_type": "code",
   "execution_count": 2,
   "id": "f8c22ef8",
   "metadata": {},
   "outputs": [
    {
     "name": "stdout",
     "output_type": "stream",
     "text": [
      "Insira o vetor A no formato [x, y, z]: -4 -1 6\n",
      "Insira o vetor B no formato [x, y, z]: -8 -2 12\n",
      "\n",
      "Vetores\n"
     ]
    },
    {
     "data": {
      "text/latex": [
       "$\\displaystyle - 4.0 âx - 1.0 ây + 6.0 âz$"
      ],
      "text/plain": [
       "-4.0*âx - 1.0*ây + 6.0*âz"
      ]
     },
     "metadata": {},
     "output_type": "display_data"
    },
    {
     "data": {
      "text/latex": [
       "$\\displaystyle - 8.0 âx - 2.0 ây + 12.0 âz$"
      ],
      "text/plain": [
       "-8.0*âx - 2.0*ây + 12.0*âz"
      ]
     },
     "metadata": {},
     "output_type": "display_data"
    },
    {
     "name": "stdout",
     "output_type": "stream",
     "text": [
      "\n",
      "Módulo dos vetores A e B\n",
      "\n",
      "----> Módulo do vetor A: 7.28\n",
      "\n",
      "----> Módulo do vetor B: 14.56\n",
      "\n",
      "Diferença entre A e B: \n"
     ]
    },
    {
     "data": {
      "text/latex": [
       "$\\displaystyle 4.0 âx + 1.0 ây - 6.0 âz$"
      ],
      "text/plain": [
       "4.0*âx + 1.0*ây - 6.0*âz"
      ]
     },
     "metadata": {},
     "output_type": "display_data"
    },
    {
     "name": "stdout",
     "output_type": "stream",
     "text": [
      "\n",
      "Soma entre A e B: \n"
     ]
    },
    {
     "data": {
      "text/latex": [
       "$\\displaystyle - 12.0 âx - 3.0 ây + 18.0 âz$"
      ],
      "text/plain": [
       "-12.0*âx - 3.0*ây + 18.0*âz"
      ]
     },
     "metadata": {},
     "output_type": "display_data"
    },
    {
     "name": "stdout",
     "output_type": "stream",
     "text": [
      "\n",
      "Produto Escalar entre A e B: A*B = 106.0\n",
      "\n",
      "Produto vetorial entre A e B: \n"
     ]
    },
    {
     "data": {
      "text/latex": [
       "$\\displaystyle 0$"
      ],
      "text/plain": [
       "0"
      ]
     },
     "metadata": {},
     "output_type": "display_data"
    },
    {
     "name": "stdout",
     "output_type": "stream",
     "text": [
      "\n",
      "Vetores unitários: \n"
     ]
    },
    {
     "data": {
      "text/latex": [
       "$\\displaystyle - 0.549442255794756 âx - 0.137360563948689 ây + 0.824163383692134 âz$"
      ],
      "text/plain": [
       "-0.549442255794756*âx - 0.137360563948689*ây + 0.824163383692134*âz"
      ]
     },
     "metadata": {},
     "output_type": "display_data"
    },
    {
     "data": {
      "text/latex": [
       "$\\displaystyle - 0.549442255794756 âx - 0.137360563948689 ây + 0.824163383692134 âz$"
      ],
      "text/plain": [
       "-0.549442255794756*âx - 0.137360563948689*ây + 0.824163383692134*âz"
      ]
     },
     "metadata": {},
     "output_type": "display_data"
    }
   ],
   "source": [
    "'''\n",
    "Este script calcula o produto escalar, o produto vetorial, os vetores unitários, a soma, a diferença \n",
    "e os módulos de dois vetores\n",
    "\n",
    "- Script originalmente escrito em matlab\n",
    "- O script original pode ser encontrado na página 20 do livro Elementos de eletromagnetismo do autor\n",
    "Matthew O. N. Sadiku.\n",
    "\n",
    "- Este script usa o arquivo utils encontrado nesse link: \n",
    "    \n",
    "        https://github.com/edsonportosilva/ElectricCircuits/blob/master/Jupyter%20notebooks/utils.py\n",
    "\n",
    "'''\n",
    "\n",
    "import sympy as sp\n",
    "import numpy as np\n",
    "from utils import symdisp, symplot\n",
    "from IPython.display import Math, Latex, display\n",
    "\n",
    "\n",
    "\n",
    "def formatVectors(*args):\n",
    "    \n",
    "    ax, ay, az = sp.symbols(\"âx ây âz\")\n",
    "    \n",
    "    if(len(args) == 1):\n",
    "        v1 = args[0]\n",
    "        v1 = sp.Array(v1[0]*ax + v1[1]*ay + v1[2]*az)\n",
    "            \n",
    "        return v1\n",
    "        \n",
    "    elif(len(args) > 1):\n",
    "        \n",
    "        v1 = args[0]\n",
    "        v2 = args[1]\n",
    "    \n",
    "        v1 = sp.Array(v1[0]*ax + v1[1]*ay + v1[2]*az)\n",
    "        v2 = sp.Array(v2[0]*ax + v2[1]*ay + v2[2]*az)\n",
    "    \n",
    "    \n",
    "    \n",
    "    return v1, v2\n",
    "        \n",
    "\n",
    "try:\n",
    "\n",
    "    vetorA = np.array(list(map(float, input(\"Insira o vetor A no formato [x, y, z]: \").split(\" \"))))\n",
    "    vetorB = np.array(list(map(float, input(\"Insira o vetor B no formato [x, y, z]: \").split(\" \"))))\n",
    "    \n",
    "    \n",
    "    v1, v2 = formatVectors(vetorA, vetorB)\n",
    "    print(\"\\nVetores\")\n",
    "    display(v1, v2)\n",
    "\n",
    "    print(\"\\nMódulo dos vetores A e B\")\n",
    "\n",
    "    print(\"\\n----> Módulo do vetor A: {0:.2f}\".format(np.linalg.norm(vetorA)))\n",
    "    print(\"\\n----> Módulo do vetor B: {0:.2f}\".format(np.linalg.norm(vetorB)))\n",
    "\n",
    "    print(\"\\nDiferença entre A e B: \")\n",
    "\n",
    "    dif = vetorA - vetorB\n",
    "\n",
    "    display(formatVectors(dif))\n",
    "    \n",
    "    print(\"\\nSoma entre A e B: \")\n",
    "    \n",
    "    soma = vetorA + vetorB\n",
    "    \n",
    "    display(formatVectors(soma))\n",
    "    \n",
    "    prodEscalar = vetorA.dot(vetorB)\n",
    "    \n",
    "    print(\"\\nProduto Escalar entre A e B: A*B = {0}\".format(prodEscalar))\n",
    "    \n",
    "    \n",
    "    prodVetorial = formatVectors(np.cross(vetorA, vetorB))\n",
    "    \n",
    "    \n",
    "    print(\"\\nProduto vetorial entre A e B: \")\n",
    "    display(prodVetorial)\n",
    "    \n",
    "    print(\"\\nVetores unitários: \")\n",
    "    \n",
    "    vUniA, vUniB = formatVectors(vetorA / np.linalg.norm(vetorA), vetorB / np.linalg.norm(vetorB))\n",
    "\n",
    "    \n",
    "    display(vUniA, vUniB)\n",
    "    \n",
    "    \n",
    "\n",
    "except ValueError:\n",
    "    print(\"Valores incorretos\")\n",
    "    \n",
    "    \n",
    "\n",
    "\n",
    "\n",
    "\n"
   ]
  },
  {
   "cell_type": "code",
   "execution_count": null,
   "id": "37d9c38f",
   "metadata": {},
   "outputs": [],
   "source": []
  }
 ],
 "metadata": {
  "kernelspec": {
   "display_name": "Python 3 (ipykernel)",
   "language": "python",
   "name": "python3"
  },
  "language_info": {
   "codemirror_mode": {
    "name": "ipython",
    "version": 3
   },
   "file_extension": ".py",
   "mimetype": "text/x-python",
   "name": "python",
   "nbconvert_exporter": "python",
   "pygments_lexer": "ipython3",
   "version": "3.9.7"
  }
 },
 "nbformat": 4,
 "nbformat_minor": 5
}
